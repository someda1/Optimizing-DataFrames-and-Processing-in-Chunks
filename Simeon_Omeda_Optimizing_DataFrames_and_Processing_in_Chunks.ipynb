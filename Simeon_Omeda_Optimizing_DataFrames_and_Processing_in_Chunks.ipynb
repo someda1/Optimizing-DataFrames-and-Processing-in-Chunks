{
  "nbformat": 4,
  "nbformat_minor": 0,
  "metadata": {
    "colab": {
      "provenance": [],
      "collapsed_sections": [
        "StemrBe2wkMj",
        "8BtAVP8fw3OH"
      ]
    },
    "kernelspec": {
      "name": "python3",
      "display_name": "Python 3"
    },
    "language_info": {
      "name": "python"
    }
  },
  "cells": [
    {
      "cell_type": "markdown",
      "metadata": {
        "id": "y7eHGTSKv8TW"
      },
      "source": [
        "#Simeon Omeda Project: Optimizing DataFrames and Processing in Chunks"
      ]
    },
    {
      "cell_type": "markdown",
      "metadata": {
        "id": "ZJ7UJlKnwJk3"
      },
      "source": [
        "## 1. Introduction "
      ]
    },
    {
      "cell_type": "markdown",
      "metadata": {
        "id": "UUyK3GcBv9mC"
      },
      "source": [
        "In this project, we'll practice working with chunked dataframes and optimizing a dataframe's memory usage. We'll be working with financial lending data from Lending Club, a marketplace for personal loans that matches borrowers with investors. You can read more about the marketplace on its website.\n",
        "\n",
        "The Lending Club's website lists approved loans. Qualified investors can view the borrower's credit score, the purpose of the loan, and other details in the loan applications. Once a lender is ready to back a loan, it selects the amount of money it wants to fund. When the loan amount the borrower requested is fully funded, the borrower receives the money, minus the origination fee that Lending Club charges.\n",
        "\n",
        "We'll be working with a dataset of loans approved from 2007-2011 (https://bit.ly/3H2XVgC). We've already removed the desc column for you to make our system run more quickly.\n",
        "\n",
        "If we read in the entire data set, it will consume about 67 megabytes of memory. Let's imagine that we only have 10 megabytes of memory available throughout this project, so you can practice the concepts you learned in the last two lessons.\n",
        "\n",
        "**Tasks**\n",
        "\n",
        "1. Read in the first five lines from `loans_2007.csv` (https://bit.ly/3H2XVgC) and look for any data quality issues.\n",
        "\n",
        "2. Read in the first 1000 rows from the data set, and calculate the total memory usage for these rows. Increase or decrease the number of rows to converge on a memory usage under five megabytes (to stay on the conservative side)."
      ]
    },
    {
      "cell_type": "code",
      "metadata": {
        "id": "Kc9NLSZ5vXPM",
        "colab": {
          "base_uri": "https://localhost:8080/",
          "height": 444
        },
        "outputId": "52070460-3eba-43af-ea5f-aa60bb5b08cd"
      },
      "source": [
        "# Read in the first five lines from loans_2007.csv (https://bit.ly/3H2XVgC) and look for any data quality issues\n",
        "# Importing pandas\n",
        "import pandas as pd\n",
        "pd.options.display.max_columns = 99\n",
        "\n",
        "# Your code goes here\n",
        "df=pd.read_csv('https://bit.ly/3H2XVgC')\n",
        "df.head()\n",
        "\n"
      ],
      "execution_count": 1,
      "outputs": [
        {
          "output_type": "stream",
          "name": "stderr",
          "text": [
            "/usr/local/lib/python3.8/dist-packages/IPython/core/interactiveshell.py:3326: DtypeWarning: Columns (0) have mixed types.Specify dtype option on import or set low_memory=False.\n",
            "  exec(code_obj, self.user_global_ns, self.user_ns)\n"
          ]
        },
        {
          "output_type": "execute_result",
          "data": {
            "text/plain": [
              "        id  member_id  loan_amnt  funded_amnt  funded_amnt_inv        term  \\\n",
              "0  1077501  1296599.0     5000.0       5000.0           4975.0   36 months   \n",
              "1  1077430  1314167.0     2500.0       2500.0           2500.0   60 months   \n",
              "2  1077175  1313524.0     2400.0       2400.0           2400.0   36 months   \n",
              "3  1076863  1277178.0    10000.0      10000.0          10000.0   36 months   \n",
              "4  1075358  1311748.0     3000.0       3000.0           3000.0   60 months   \n",
              "\n",
              "  int_rate  installment grade sub_grade                 emp_title emp_length  \\\n",
              "0   10.65%       162.87     B        B2                       NaN  10+ years   \n",
              "1   15.27%        59.83     C        C4                     Ryder   < 1 year   \n",
              "2   15.96%        84.33     C        C5                       NaN  10+ years   \n",
              "3   13.49%       339.31     C        C1       AIR RESOURCES BOARD  10+ years   \n",
              "4   12.69%        67.79     B        B5  University Medical Group     1 year   \n",
              "\n",
              "  home_ownership  annual_inc verification_status   issue_d  loan_status  \\\n",
              "0           RENT     24000.0            Verified  Dec-2011   Fully Paid   \n",
              "1           RENT     30000.0     Source Verified  Dec-2011  Charged Off   \n",
              "2           RENT     12252.0        Not Verified  Dec-2011   Fully Paid   \n",
              "3           RENT     49200.0     Source Verified  Dec-2011   Fully Paid   \n",
              "4           RENT     80000.0     Source Verified  Dec-2011      Current   \n",
              "\n",
              "  pymnt_plan         purpose                 title zip_code addr_state    dti  \\\n",
              "0          n     credit_card              Computer    860xx         AZ  27.65   \n",
              "1          n             car                  bike    309xx         GA   1.00   \n",
              "2          n  small_business  real estate business    606xx         IL   8.72   \n",
              "3          n           other              personel    917xx         CA  20.00   \n",
              "4          n           other              Personal    972xx         OR  17.94   \n",
              "\n",
              "   delinq_2yrs earliest_cr_line  inq_last_6mths  open_acc  pub_rec  revol_bal  \\\n",
              "0          0.0         Jan-1985             1.0       3.0      0.0    13648.0   \n",
              "1          0.0         Apr-1999             5.0       3.0      0.0     1687.0   \n",
              "2          0.0         Nov-2001             2.0       2.0      0.0     2956.0   \n",
              "3          0.0         Feb-1996             1.0      10.0      0.0     5598.0   \n",
              "4          0.0         Jan-1996             0.0      15.0      0.0    27783.0   \n",
              "\n",
              "  revol_util  total_acc initial_list_status  out_prncp  out_prncp_inv  \\\n",
              "0      83.7%        9.0                   f       0.00           0.00   \n",
              "1       9.4%        4.0                   f       0.00           0.00   \n",
              "2      98.5%       10.0                   f       0.00           0.00   \n",
              "3        21%       37.0                   f       0.00           0.00   \n",
              "4      53.9%       38.0                   f     461.73         461.73   \n",
              "\n",
              "    total_pymnt  total_pymnt_inv  total_rec_prncp  total_rec_int  \\\n",
              "0   5863.155187          5833.84          5000.00         863.16   \n",
              "1   1008.710000          1008.71           456.46         435.17   \n",
              "2   3005.666844          3005.67          2400.00         605.67   \n",
              "3  12231.890000         12231.89         10000.00        2214.92   \n",
              "4   3581.120000          3581.12          2538.27        1042.85   \n",
              "\n",
              "   total_rec_late_fee  recoveries  collection_recovery_fee last_pymnt_d  \\\n",
              "0                0.00        0.00                     0.00     Jan-2015   \n",
              "1                0.00      117.08                     1.11     Apr-2013   \n",
              "2                0.00        0.00                     0.00     Jun-2014   \n",
              "3               16.97        0.00                     0.00     Jan-2015   \n",
              "4                0.00        0.00                     0.00     Jun-2016   \n",
              "\n",
              "   last_pymnt_amnt last_credit_pull_d  collections_12_mths_ex_med  \\\n",
              "0           171.62           Jun-2016                         0.0   \n",
              "1           119.66           Sep-2013                         0.0   \n",
              "2           649.91           Jun-2016                         0.0   \n",
              "3           357.48           Apr-2016                         0.0   \n",
              "4            67.79           Jun-2016                         0.0   \n",
              "\n",
              "   policy_code application_type  acc_now_delinq  chargeoff_within_12_mths  \\\n",
              "0          1.0       INDIVIDUAL             0.0                       0.0   \n",
              "1          1.0       INDIVIDUAL             0.0                       0.0   \n",
              "2          1.0       INDIVIDUAL             0.0                       0.0   \n",
              "3          1.0       INDIVIDUAL             0.0                       0.0   \n",
              "4          1.0       INDIVIDUAL             0.0                       0.0   \n",
              "\n",
              "   delinq_amnt  pub_rec_bankruptcies  tax_liens  \n",
              "0          0.0                   0.0        0.0  \n",
              "1          0.0                   0.0        0.0  \n",
              "2          0.0                   0.0        0.0  \n",
              "3          0.0                   0.0        0.0  \n",
              "4          0.0                   0.0        0.0  "
            ],
            "text/html": [
              "\n",
              "  <div id=\"df-4f489950-b6d9-4898-b90f-667555bd115d\">\n",
              "    <div class=\"colab-df-container\">\n",
              "      <div>\n",
              "<style scoped>\n",
              "    .dataframe tbody tr th:only-of-type {\n",
              "        vertical-align: middle;\n",
              "    }\n",
              "\n",
              "    .dataframe tbody tr th {\n",
              "        vertical-align: top;\n",
              "    }\n",
              "\n",
              "    .dataframe thead th {\n",
              "        text-align: right;\n",
              "    }\n",
              "</style>\n",
              "<table border=\"1\" class=\"dataframe\">\n",
              "  <thead>\n",
              "    <tr style=\"text-align: right;\">\n",
              "      <th></th>\n",
              "      <th>id</th>\n",
              "      <th>member_id</th>\n",
              "      <th>loan_amnt</th>\n",
              "      <th>funded_amnt</th>\n",
              "      <th>funded_amnt_inv</th>\n",
              "      <th>term</th>\n",
              "      <th>int_rate</th>\n",
              "      <th>installment</th>\n",
              "      <th>grade</th>\n",
              "      <th>sub_grade</th>\n",
              "      <th>emp_title</th>\n",
              "      <th>emp_length</th>\n",
              "      <th>home_ownership</th>\n",
              "      <th>annual_inc</th>\n",
              "      <th>verification_status</th>\n",
              "      <th>issue_d</th>\n",
              "      <th>loan_status</th>\n",
              "      <th>pymnt_plan</th>\n",
              "      <th>purpose</th>\n",
              "      <th>title</th>\n",
              "      <th>zip_code</th>\n",
              "      <th>addr_state</th>\n",
              "      <th>dti</th>\n",
              "      <th>delinq_2yrs</th>\n",
              "      <th>earliest_cr_line</th>\n",
              "      <th>inq_last_6mths</th>\n",
              "      <th>open_acc</th>\n",
              "      <th>pub_rec</th>\n",
              "      <th>revol_bal</th>\n",
              "      <th>revol_util</th>\n",
              "      <th>total_acc</th>\n",
              "      <th>initial_list_status</th>\n",
              "      <th>out_prncp</th>\n",
              "      <th>out_prncp_inv</th>\n",
              "      <th>total_pymnt</th>\n",
              "      <th>total_pymnt_inv</th>\n",
              "      <th>total_rec_prncp</th>\n",
              "      <th>total_rec_int</th>\n",
              "      <th>total_rec_late_fee</th>\n",
              "      <th>recoveries</th>\n",
              "      <th>collection_recovery_fee</th>\n",
              "      <th>last_pymnt_d</th>\n",
              "      <th>last_pymnt_amnt</th>\n",
              "      <th>last_credit_pull_d</th>\n",
              "      <th>collections_12_mths_ex_med</th>\n",
              "      <th>policy_code</th>\n",
              "      <th>application_type</th>\n",
              "      <th>acc_now_delinq</th>\n",
              "      <th>chargeoff_within_12_mths</th>\n",
              "      <th>delinq_amnt</th>\n",
              "      <th>pub_rec_bankruptcies</th>\n",
              "      <th>tax_liens</th>\n",
              "    </tr>\n",
              "  </thead>\n",
              "  <tbody>\n",
              "    <tr>\n",
              "      <th>0</th>\n",
              "      <td>1077501</td>\n",
              "      <td>1296599.0</td>\n",
              "      <td>5000.0</td>\n",
              "      <td>5000.0</td>\n",
              "      <td>4975.0</td>\n",
              "      <td>36 months</td>\n",
              "      <td>10.65%</td>\n",
              "      <td>162.87</td>\n",
              "      <td>B</td>\n",
              "      <td>B2</td>\n",
              "      <td>NaN</td>\n",
              "      <td>10+ years</td>\n",
              "      <td>RENT</td>\n",
              "      <td>24000.0</td>\n",
              "      <td>Verified</td>\n",
              "      <td>Dec-2011</td>\n",
              "      <td>Fully Paid</td>\n",
              "      <td>n</td>\n",
              "      <td>credit_card</td>\n",
              "      <td>Computer</td>\n",
              "      <td>860xx</td>\n",
              "      <td>AZ</td>\n",
              "      <td>27.65</td>\n",
              "      <td>0.0</td>\n",
              "      <td>Jan-1985</td>\n",
              "      <td>1.0</td>\n",
              "      <td>3.0</td>\n",
              "      <td>0.0</td>\n",
              "      <td>13648.0</td>\n",
              "      <td>83.7%</td>\n",
              "      <td>9.0</td>\n",
              "      <td>f</td>\n",
              "      <td>0.00</td>\n",
              "      <td>0.00</td>\n",
              "      <td>5863.155187</td>\n",
              "      <td>5833.84</td>\n",
              "      <td>5000.00</td>\n",
              "      <td>863.16</td>\n",
              "      <td>0.00</td>\n",
              "      <td>0.00</td>\n",
              "      <td>0.00</td>\n",
              "      <td>Jan-2015</td>\n",
              "      <td>171.62</td>\n",
              "      <td>Jun-2016</td>\n",
              "      <td>0.0</td>\n",
              "      <td>1.0</td>\n",
              "      <td>INDIVIDUAL</td>\n",
              "      <td>0.0</td>\n",
              "      <td>0.0</td>\n",
              "      <td>0.0</td>\n",
              "      <td>0.0</td>\n",
              "      <td>0.0</td>\n",
              "    </tr>\n",
              "    <tr>\n",
              "      <th>1</th>\n",
              "      <td>1077430</td>\n",
              "      <td>1314167.0</td>\n",
              "      <td>2500.0</td>\n",
              "      <td>2500.0</td>\n",
              "      <td>2500.0</td>\n",
              "      <td>60 months</td>\n",
              "      <td>15.27%</td>\n",
              "      <td>59.83</td>\n",
              "      <td>C</td>\n",
              "      <td>C4</td>\n",
              "      <td>Ryder</td>\n",
              "      <td>&lt; 1 year</td>\n",
              "      <td>RENT</td>\n",
              "      <td>30000.0</td>\n",
              "      <td>Source Verified</td>\n",
              "      <td>Dec-2011</td>\n",
              "      <td>Charged Off</td>\n",
              "      <td>n</td>\n",
              "      <td>car</td>\n",
              "      <td>bike</td>\n",
              "      <td>309xx</td>\n",
              "      <td>GA</td>\n",
              "      <td>1.00</td>\n",
              "      <td>0.0</td>\n",
              "      <td>Apr-1999</td>\n",
              "      <td>5.0</td>\n",
              "      <td>3.0</td>\n",
              "      <td>0.0</td>\n",
              "      <td>1687.0</td>\n",
              "      <td>9.4%</td>\n",
              "      <td>4.0</td>\n",
              "      <td>f</td>\n",
              "      <td>0.00</td>\n",
              "      <td>0.00</td>\n",
              "      <td>1008.710000</td>\n",
              "      <td>1008.71</td>\n",
              "      <td>456.46</td>\n",
              "      <td>435.17</td>\n",
              "      <td>0.00</td>\n",
              "      <td>117.08</td>\n",
              "      <td>1.11</td>\n",
              "      <td>Apr-2013</td>\n",
              "      <td>119.66</td>\n",
              "      <td>Sep-2013</td>\n",
              "      <td>0.0</td>\n",
              "      <td>1.0</td>\n",
              "      <td>INDIVIDUAL</td>\n",
              "      <td>0.0</td>\n",
              "      <td>0.0</td>\n",
              "      <td>0.0</td>\n",
              "      <td>0.0</td>\n",
              "      <td>0.0</td>\n",
              "    </tr>\n",
              "    <tr>\n",
              "      <th>2</th>\n",
              "      <td>1077175</td>\n",
              "      <td>1313524.0</td>\n",
              "      <td>2400.0</td>\n",
              "      <td>2400.0</td>\n",
              "      <td>2400.0</td>\n",
              "      <td>36 months</td>\n",
              "      <td>15.96%</td>\n",
              "      <td>84.33</td>\n",
              "      <td>C</td>\n",
              "      <td>C5</td>\n",
              "      <td>NaN</td>\n",
              "      <td>10+ years</td>\n",
              "      <td>RENT</td>\n",
              "      <td>12252.0</td>\n",
              "      <td>Not Verified</td>\n",
              "      <td>Dec-2011</td>\n",
              "      <td>Fully Paid</td>\n",
              "      <td>n</td>\n",
              "      <td>small_business</td>\n",
              "      <td>real estate business</td>\n",
              "      <td>606xx</td>\n",
              "      <td>IL</td>\n",
              "      <td>8.72</td>\n",
              "      <td>0.0</td>\n",
              "      <td>Nov-2001</td>\n",
              "      <td>2.0</td>\n",
              "      <td>2.0</td>\n",
              "      <td>0.0</td>\n",
              "      <td>2956.0</td>\n",
              "      <td>98.5%</td>\n",
              "      <td>10.0</td>\n",
              "      <td>f</td>\n",
              "      <td>0.00</td>\n",
              "      <td>0.00</td>\n",
              "      <td>3005.666844</td>\n",
              "      <td>3005.67</td>\n",
              "      <td>2400.00</td>\n",
              "      <td>605.67</td>\n",
              "      <td>0.00</td>\n",
              "      <td>0.00</td>\n",
              "      <td>0.00</td>\n",
              "      <td>Jun-2014</td>\n",
              "      <td>649.91</td>\n",
              "      <td>Jun-2016</td>\n",
              "      <td>0.0</td>\n",
              "      <td>1.0</td>\n",
              "      <td>INDIVIDUAL</td>\n",
              "      <td>0.0</td>\n",
              "      <td>0.0</td>\n",
              "      <td>0.0</td>\n",
              "      <td>0.0</td>\n",
              "      <td>0.0</td>\n",
              "    </tr>\n",
              "    <tr>\n",
              "      <th>3</th>\n",
              "      <td>1076863</td>\n",
              "      <td>1277178.0</td>\n",
              "      <td>10000.0</td>\n",
              "      <td>10000.0</td>\n",
              "      <td>10000.0</td>\n",
              "      <td>36 months</td>\n",
              "      <td>13.49%</td>\n",
              "      <td>339.31</td>\n",
              "      <td>C</td>\n",
              "      <td>C1</td>\n",
              "      <td>AIR RESOURCES BOARD</td>\n",
              "      <td>10+ years</td>\n",
              "      <td>RENT</td>\n",
              "      <td>49200.0</td>\n",
              "      <td>Source Verified</td>\n",
              "      <td>Dec-2011</td>\n",
              "      <td>Fully Paid</td>\n",
              "      <td>n</td>\n",
              "      <td>other</td>\n",
              "      <td>personel</td>\n",
              "      <td>917xx</td>\n",
              "      <td>CA</td>\n",
              "      <td>20.00</td>\n",
              "      <td>0.0</td>\n",
              "      <td>Feb-1996</td>\n",
              "      <td>1.0</td>\n",
              "      <td>10.0</td>\n",
              "      <td>0.0</td>\n",
              "      <td>5598.0</td>\n",
              "      <td>21%</td>\n",
              "      <td>37.0</td>\n",
              "      <td>f</td>\n",
              "      <td>0.00</td>\n",
              "      <td>0.00</td>\n",
              "      <td>12231.890000</td>\n",
              "      <td>12231.89</td>\n",
              "      <td>10000.00</td>\n",
              "      <td>2214.92</td>\n",
              "      <td>16.97</td>\n",
              "      <td>0.00</td>\n",
              "      <td>0.00</td>\n",
              "      <td>Jan-2015</td>\n",
              "      <td>357.48</td>\n",
              "      <td>Apr-2016</td>\n",
              "      <td>0.0</td>\n",
              "      <td>1.0</td>\n",
              "      <td>INDIVIDUAL</td>\n",
              "      <td>0.0</td>\n",
              "      <td>0.0</td>\n",
              "      <td>0.0</td>\n",
              "      <td>0.0</td>\n",
              "      <td>0.0</td>\n",
              "    </tr>\n",
              "    <tr>\n",
              "      <th>4</th>\n",
              "      <td>1075358</td>\n",
              "      <td>1311748.0</td>\n",
              "      <td>3000.0</td>\n",
              "      <td>3000.0</td>\n",
              "      <td>3000.0</td>\n",
              "      <td>60 months</td>\n",
              "      <td>12.69%</td>\n",
              "      <td>67.79</td>\n",
              "      <td>B</td>\n",
              "      <td>B5</td>\n",
              "      <td>University Medical Group</td>\n",
              "      <td>1 year</td>\n",
              "      <td>RENT</td>\n",
              "      <td>80000.0</td>\n",
              "      <td>Source Verified</td>\n",
              "      <td>Dec-2011</td>\n",
              "      <td>Current</td>\n",
              "      <td>n</td>\n",
              "      <td>other</td>\n",
              "      <td>Personal</td>\n",
              "      <td>972xx</td>\n",
              "      <td>OR</td>\n",
              "      <td>17.94</td>\n",
              "      <td>0.0</td>\n",
              "      <td>Jan-1996</td>\n",
              "      <td>0.0</td>\n",
              "      <td>15.0</td>\n",
              "      <td>0.0</td>\n",
              "      <td>27783.0</td>\n",
              "      <td>53.9%</td>\n",
              "      <td>38.0</td>\n",
              "      <td>f</td>\n",
              "      <td>461.73</td>\n",
              "      <td>461.73</td>\n",
              "      <td>3581.120000</td>\n",
              "      <td>3581.12</td>\n",
              "      <td>2538.27</td>\n",
              "      <td>1042.85</td>\n",
              "      <td>0.00</td>\n",
              "      <td>0.00</td>\n",
              "      <td>0.00</td>\n",
              "      <td>Jun-2016</td>\n",
              "      <td>67.79</td>\n",
              "      <td>Jun-2016</td>\n",
              "      <td>0.0</td>\n",
              "      <td>1.0</td>\n",
              "      <td>INDIVIDUAL</td>\n",
              "      <td>0.0</td>\n",
              "      <td>0.0</td>\n",
              "      <td>0.0</td>\n",
              "      <td>0.0</td>\n",
              "      <td>0.0</td>\n",
              "    </tr>\n",
              "  </tbody>\n",
              "</table>\n",
              "</div>\n",
              "      <button class=\"colab-df-convert\" onclick=\"convertToInteractive('df-4f489950-b6d9-4898-b90f-667555bd115d')\"\n",
              "              title=\"Convert this dataframe to an interactive table.\"\n",
              "              style=\"display:none;\">\n",
              "        \n",
              "  <svg xmlns=\"http://www.w3.org/2000/svg\" height=\"24px\"viewBox=\"0 0 24 24\"\n",
              "       width=\"24px\">\n",
              "    <path d=\"M0 0h24v24H0V0z\" fill=\"none\"/>\n",
              "    <path d=\"M18.56 5.44l.94 2.06.94-2.06 2.06-.94-2.06-.94-.94-2.06-.94 2.06-2.06.94zm-11 1L8.5 8.5l.94-2.06 2.06-.94-2.06-.94L8.5 2.5l-.94 2.06-2.06.94zm10 10l.94 2.06.94-2.06 2.06-.94-2.06-.94-.94-2.06-.94 2.06-2.06.94z\"/><path d=\"M17.41 7.96l-1.37-1.37c-.4-.4-.92-.59-1.43-.59-.52 0-1.04.2-1.43.59L10.3 9.45l-7.72 7.72c-.78.78-.78 2.05 0 2.83L4 21.41c.39.39.9.59 1.41.59.51 0 1.02-.2 1.41-.59l7.78-7.78 2.81-2.81c.8-.78.8-2.07 0-2.86zM5.41 20L4 18.59l7.72-7.72 1.47 1.35L5.41 20z\"/>\n",
              "  </svg>\n",
              "      </button>\n",
              "      \n",
              "  <style>\n",
              "    .colab-df-container {\n",
              "      display:flex;\n",
              "      flex-wrap:wrap;\n",
              "      gap: 12px;\n",
              "    }\n",
              "\n",
              "    .colab-df-convert {\n",
              "      background-color: #E8F0FE;\n",
              "      border: none;\n",
              "      border-radius: 50%;\n",
              "      cursor: pointer;\n",
              "      display: none;\n",
              "      fill: #1967D2;\n",
              "      height: 32px;\n",
              "      padding: 0 0 0 0;\n",
              "      width: 32px;\n",
              "    }\n",
              "\n",
              "    .colab-df-convert:hover {\n",
              "      background-color: #E2EBFA;\n",
              "      box-shadow: 0px 1px 2px rgba(60, 64, 67, 0.3), 0px 1px 3px 1px rgba(60, 64, 67, 0.15);\n",
              "      fill: #174EA6;\n",
              "    }\n",
              "\n",
              "    [theme=dark] .colab-df-convert {\n",
              "      background-color: #3B4455;\n",
              "      fill: #D2E3FC;\n",
              "    }\n",
              "\n",
              "    [theme=dark] .colab-df-convert:hover {\n",
              "      background-color: #434B5C;\n",
              "      box-shadow: 0px 1px 3px 1px rgba(0, 0, 0, 0.15);\n",
              "      filter: drop-shadow(0px 1px 2px rgba(0, 0, 0, 0.3));\n",
              "      fill: #FFFFFF;\n",
              "    }\n",
              "  </style>\n",
              "\n",
              "      <script>\n",
              "        const buttonEl =\n",
              "          document.querySelector('#df-4f489950-b6d9-4898-b90f-667555bd115d button.colab-df-convert');\n",
              "        buttonEl.style.display =\n",
              "          google.colab.kernel.accessAllowed ? 'block' : 'none';\n",
              "\n",
              "        async function convertToInteractive(key) {\n",
              "          const element = document.querySelector('#df-4f489950-b6d9-4898-b90f-667555bd115d');\n",
              "          const dataTable =\n",
              "            await google.colab.kernel.invokeFunction('convertToInteractive',\n",
              "                                                     [key], {});\n",
              "          if (!dataTable) return;\n",
              "\n",
              "          const docLinkHtml = 'Like what you see? Visit the ' +\n",
              "            '<a target=\"_blank\" href=https://colab.research.google.com/notebooks/data_table.ipynb>data table notebook</a>'\n",
              "            + ' to learn more about interactive tables.';\n",
              "          element.innerHTML = '';\n",
              "          dataTable['output_type'] = 'display_data';\n",
              "          await google.colab.output.renderOutput(dataTable, element);\n",
              "          const docLink = document.createElement('div');\n",
              "          docLink.innerHTML = docLinkHtml;\n",
              "          element.appendChild(docLink);\n",
              "        }\n",
              "      </script>\n",
              "    </div>\n",
              "  </div>\n",
              "  "
            ]
          },
          "metadata": {},
          "execution_count": 1
        }
      ]
    },
    {
      "cell_type": "code",
      "source": [
        "# Read in the first 1000 rows from the data set, and calculate the total memory usage for these rows\n",
        "df_loans= pd.read_csv(\"loans_2007.csv\", nrows = 1000)\n",
        "print(\"usage(MB) for 1000 rows: \",df_loans.memory_usage(deep=True).sum()/(1024**2))"
      ],
      "metadata": {
        "colab": {
          "base_uri": "https://localhost:8080/"
        },
        "id": "Uj2fgtiNoK0K",
        "outputId": "0e515a17-a32b-47bf-a766-a0e2724c6f80"
      },
      "execution_count": 2,
      "outputs": [
        {
          "output_type": "stream",
          "name": "stdout",
          "text": [
            "usage(MB) for 1000 rows:  1.5273666381835938\n"
          ]
        }
      ]
    },
    {
      "cell_type": "markdown",
      "metadata": {
        "id": "StemrBe2wkMj"
      },
      "source": [
        "## 2. Exploring the Data in Chunks"
      ]
    },
    {
      "cell_type": "markdown",
      "metadata": {
        "id": "dm4p982Dwor5"
      },
      "source": [
        "Let's familiarize ourselves with the columns to see which ones we can optimize. In the first lesson, we explored column types by reading in the full dataframe. In this project, let's try to understand the column types better while using dataframe chunks.\n",
        "\n",
        "**Tasks**\n",
        "\n",
        "For each chunk:\n",
        "* How many columns have a numeric type? \n",
        "* How many have a string type?\n",
        "* How many unique values are there in each string column? How many of the string columns contain values that are less than 50% unique?\n",
        "* Which float columns have no missing values and could be candidates for conversion to the integer type?\n",
        "* Calculate the total memory usage across all of the chunks."
      ]
    },
    {
      "cell_type": "code",
      "metadata": {
        "id": "rjTUXAnJwzdx"
      },
      "source": [
        "# Your code goes here\n",
        "chunk=pd.read_csv('https://bit.ly/3H2XVgC', chunksize=3000)\n",
        "types=[c.dtypes for c in chunk]\n",
        "\n"
      ],
      "execution_count": 3,
      "outputs": []
    },
    {
      "cell_type": "code",
      "source": [
        "#How many columns have a numeric type?\n",
        "#How many have a string type?\n",
        "types[0].value_counts()"
      ],
      "metadata": {
        "colab": {
          "base_uri": "https://localhost:8080/"
        },
        "id": "8CbHuVuudiF9",
        "outputId": "860bfae8-650f-4a19-877c-1ce532628b1b"
      },
      "execution_count": 4,
      "outputs": [
        {
          "output_type": "execute_result",
          "data": {
            "text/plain": [
              "float64    30\n",
              "object     21\n",
              "int64       1\n",
              "dtype: int64"
            ]
          },
          "metadata": {},
          "execution_count": 4
        }
      ]
    },
    {
      "cell_type": "code",
      "source": [
        "# How many unique values are there in each string column? How many of the string columns contain values that are less than 50% unique?\n",
        "\n",
        "colObj = types[0].loc[lambda x : x == 'object']\n",
        "lsObjCols = colObj.index.values.tolist()\n",
        "lsObjCols"
      ],
      "metadata": {
        "colab": {
          "base_uri": "https://localhost:8080/"
        },
        "id": "DrYRwySlepdm",
        "outputId": "fed18a2b-fa5a-41f2-c4f5-ef03a4f16451"
      },
      "execution_count": 5,
      "outputs": [
        {
          "output_type": "execute_result",
          "data": {
            "text/plain": [
              "['term',\n",
              " 'int_rate',\n",
              " 'grade',\n",
              " 'sub_grade',\n",
              " 'emp_title',\n",
              " 'emp_length',\n",
              " 'home_ownership',\n",
              " 'verification_status',\n",
              " 'issue_d',\n",
              " 'loan_status',\n",
              " 'pymnt_plan',\n",
              " 'purpose',\n",
              " 'title',\n",
              " 'zip_code',\n",
              " 'addr_state',\n",
              " 'earliest_cr_line',\n",
              " 'revol_util',\n",
              " 'initial_list_status',\n",
              " 'last_pymnt_d',\n",
              " 'last_credit_pull_d',\n",
              " 'application_type']"
            ]
          },
          "metadata": {},
          "execution_count": 5
        }
      ]
    },
    {
      "cell_type": "code",
      "source": [
        "# How many unique values are there in each string column? How many of the string columns contain values that are less than 50% unique?\n",
        "\n",
        "from enum import unique\n",
        "\n",
        "loan_df = pd.read_csv(\"loans_2007.csv\", chunksize = 2000)\n",
        "\n",
        "percentage = []\n",
        "for chunk in loan_df:\n",
        "  chunk[\"id\"] = pd.to_numeric(chunk[\"id\"], errors = \"coerce\")\n",
        "  chunk = chunk.dropna(axis = 0, subset = [\"id\"])\n",
        "  unique_string_columns = chunk.select_dtypes(include=[\"object\"]).nunique()\n",
        "  count_string_columns = chunk.select_dtypes(include=[\"object\"]).count()\n",
        "  percentage.append((100*unique_string_columns/count_string_columns))\n",
        "  unique_total = pd.concat(percentage)\n",
        "  unique_total = unique_total.groupby(unique_total.index).mean()\n",
        "  category_string_columns = list((unique_total[unique_total<50]).index)\n",
        "\n",
        "print(print(f\"\\npercentage of unique values is: \\n {unique_total}\"))"
      ],
      "metadata": {
        "colab": {
          "base_uri": "https://localhost:8080/"
        },
        "id": "krIE_F2vfa0N",
        "outputId": "464ea0c8-ca73-4617-9a49-691b9b5dc65c"
      },
      "execution_count": 6,
      "outputs": [
        {
          "output_type": "stream",
          "name": "stdout",
          "text": [
            "\n",
            "percentage of unique values is: \n",
            " addr_state              2.410776\n",
            "application_type        0.056209\n",
            "earliest_cr_line       18.636656\n",
            "emp_length              0.632663\n",
            "emp_title              94.211510\n",
            "grade                   0.393461\n",
            "home_ownership          0.193018\n",
            "initial_list_status     0.056209\n",
            "int_rate                3.586332\n",
            "issue_d                 0.337712\n",
            "last_credit_pull_d      4.069264\n",
            "last_pymnt_d            3.280709\n",
            "loan_status             0.194238\n",
            "purpose                 0.751169\n",
            "pymnt_plan              0.058481\n",
            "revol_util             44.077543\n",
            "sub_grade               1.937759\n",
            "term                    0.097119\n",
            "title                  66.508106\n",
            "verification_status     0.151666\n",
            "zip_code               25.880729\n",
            "dtype: float64\n",
            "None\n"
          ]
        }
      ]
    },
    {
      "cell_type": "code",
      "source": [
        "# Which float columns have no missing values and could be candidates for conversion to the integer type?\n",
        "colFloat = types[0].loc[lambda x : x == 'float64']\n",
        "lsFloatCols = colFloat.index.values.tolist()\n",
        "lsFloatCols"
      ],
      "metadata": {
        "colab": {
          "base_uri": "https://localhost:8080/"
        },
        "id": "ulbLz1CngJeh",
        "outputId": "78ac431d-7c85-4df6-9e25-b4f169764a56"
      },
      "execution_count": 7,
      "outputs": [
        {
          "output_type": "execute_result",
          "data": {
            "text/plain": [
              "['member_id',\n",
              " 'loan_amnt',\n",
              " 'funded_amnt',\n",
              " 'funded_amnt_inv',\n",
              " 'installment',\n",
              " 'annual_inc',\n",
              " 'dti',\n",
              " 'delinq_2yrs',\n",
              " 'inq_last_6mths',\n",
              " 'open_acc',\n",
              " 'pub_rec',\n",
              " 'revol_bal',\n",
              " 'total_acc',\n",
              " 'out_prncp',\n",
              " 'out_prncp_inv',\n",
              " 'total_pymnt',\n",
              " 'total_pymnt_inv',\n",
              " 'total_rec_prncp',\n",
              " 'total_rec_int',\n",
              " 'total_rec_late_fee',\n",
              " 'recoveries',\n",
              " 'collection_recovery_fee',\n",
              " 'last_pymnt_amnt',\n",
              " 'collections_12_mths_ex_med',\n",
              " 'policy_code',\n",
              " 'acc_now_delinq',\n",
              " 'chargeoff_within_12_mths',\n",
              " 'delinq_amnt',\n",
              " 'pub_rec_bankruptcies',\n",
              " 'tax_liens']"
            ]
          },
          "metadata": {},
          "execution_count": 7
        }
      ]
    },
    {
      "cell_type": "code",
      "source": [
        "# Calculate the total memory usage across all of the chunks.\n",
        "loan_df = pd.read_csv(\"loans_2007.csv\", chunksize = 2000)\n",
        "initial_memory = []\n",
        "for chunk in loan_df:\n",
        "  initial_memory.append(chunk.memory_usage(deep=True).sum()/(1024**2))\n",
        "\n",
        "print(\"total memory usage: {:.4f} MB\" . format(sum(initial_memory)))"
      ],
      "metadata": {
        "colab": {
          "base_uri": "https://localhost:8080/"
        },
        "id": "-F4HbrnXgwPQ",
        "outputId": "3fe61066-daea-46aa-dccb-8351477e5bad"
      },
      "execution_count": 8,
      "outputs": [
        {
          "output_type": "stream",
          "name": "stdout",
          "text": [
            "total memory usage: 65.1909 MB\n"
          ]
        }
      ]
    },
    {
      "cell_type": "markdown",
      "metadata": {
        "id": "8BtAVP8fw3OH"
      },
      "source": [
        "## 3. Optimizing String Columns"
      ]
    },
    {
      "cell_type": "markdown",
      "metadata": {
        "id": "ZkWArHAhw_bw"
      },
      "source": [
        "We can achieve the greatest memory improvements by converting the string columns to a numeric type. Let's convert all of the columns where the values are less than 50% unique to the category type, and the columns that contain numeric values to the `float` type.\n",
        "\n",
        "While working with dataframe chunks:\n",
        "* Determine which string columns you can convert to a numeric type if you clean them. For example, the `int_rate` column is only a string because of the % sign at the end.\n",
        "* Determine which columns have a few unique values and convert them to the category type. For example, you may want to convert the grade and `sub_grade` columns.\n",
        "Based on your conclusions, perform the necessary type changes across all chunks. * Calculate the total memory footprint, and compare it with the previous one."
      ]
    },
    {
      "cell_type": "code",
      "metadata": {
        "id": "FH0tcQlpxG9s",
        "colab": {
          "base_uri": "https://localhost:8080/"
        },
        "outputId": "2705f1da-f232-4423-c1c0-35ca43bd8110"
      },
      "source": [
        "# Your code goes here\n",
        "#convert string columns to numeric\n",
        "convert_columns_dtypes = {\"sub_grade\":\"category\", \"home_ownership\":\"category\", \"verification_status\":\"category\", \"purpose\":\"category\"}\n",
        "\n",
        "loan_df = pd.read_csv(\"loans_2007.csv\", chunksize = 2000, dtype = convert_columns_dtypes, parse_dates = [\"issue_d\", \"earliest_cr_line\", \"last_pymnt_d\", \"last_credit_pull_d\"])\n",
        "total_memory=[]\n",
        "for chunk in loan_df:\n",
        "  term_cleaned=chunk[\"term\"].str.lstrip(\" \").str.rstrip(\"months\")\n",
        "  int_rate_cleaned=chunk[\"int_rate\"].str.rstrip(\"%\")\n",
        "  revol_cleaned=chunk[\"revol_util\"].str.rstrip(\"%\")\n",
        "  chunk[\"term\"]=pd.to_numeric(term_cleaned)\n",
        "  chunk[\"revol_util\"]=pd.to_numeric(revol_cleaned)\n",
        "  chunk[\"int_rate\"]=pd.to_numeric(int_rate_cleaned)\n",
        "  total_memory.append(chunk.memory_usage(deep=True).sum()/(1024**2))\n",
        "\n",
        "print(\"\\nTotal memory usage with string optimisation: {:.2f} MB\" . format(sum(total_memory)))\n"
      ],
      "execution_count": 9,
      "outputs": [
        {
          "output_type": "stream",
          "name": "stdout",
          "text": [
            "\n",
            "Total memory usage with string optimisation: 38.80 MB\n"
          ]
        }
      ]
    },
    {
      "cell_type": "markdown",
      "metadata": {
        "id": "22oYzgXnxIcV"
      },
      "source": [
        "## 4. Optimizing Numeric Columns"
      ]
    },
    {
      "cell_type": "markdown",
      "metadata": {
        "id": "bv5C20YrxPID"
      },
      "source": [
        "It looks like we were able to realize some powerful memory savings by converting to the category type and converting string columns to numeric ones.\n",
        "\n",
        "Now let's optimize the numeric columns using the `pandas.to_numeric()` function.\n",
        "\n",
        "**Tasks**\n",
        "\n",
        "While working with dataframe chunks:\n",
        "* Identify float columns that contain missing values, and that we can convert to a more space efficient subtype.\n",
        "* Identify float columns that don't contain any missing values, and that we can convert to the integer type because they represent whole numbers.\n",
        "* Based on your conclusions, perform the necessary type changes across all chunks.\n",
        "* Calculate the total memory footprint and compare it with the previous one.\n",
        "\n",
        "\n"
      ]
    },
    {
      "cell_type": "code",
      "source": [
        "df = pd.read_csv(\"loans_2007.csv\", chunksize = 2000, dtype = convert_columns_dtypes, parse_dates = [\"issue_d\", \"earliest_cr_line\", \"last_pymnt_d\", \"last_credit_pull_d\"])\n",
        "import numpy as np\n",
        "def change_to_int(df, column_name):\n",
        "  max_column=df[column_name].max()\n",
        "  min_column=df[column_name].min()\n",
        "  for dtype_name in [\"int8\", \"int16\", \"int32\", \"int64\"]:\n",
        "    if max_column < np.iinfo(dtype_name).max and min_column > np.iinfo(dtype_name).min:\n",
        "      df[column_name] = df[column_name].astype(dtype_name)\n",
        "      break\n",
        "\n",
        "total_memory = []\n",
        "for chunk in df:\n",
        "  chunk[\"id\"] = pd.to_numeric(chunk[\"id\"], errors = \"coerce\")\n",
        "  chunk = chunk.dropna(axis=0, subset = [\"id\"])\n",
        "  term_cleaned=chunk[\"term\"].str.lstrip(\" \").str.rstrip(\" months\")\n",
        "  int_rate_cleaned=chunk[\"int_rate\"].str.rstrip(\"%\")\n",
        "  revol_cleaned=chunk[\"revol_util\"].str.rstrip(\"%\")\n",
        "  chunk[\"term\"]=pd.to_numeric(term_cleaned)\n",
        "  chunk[\"revol_util\"]=pd.to_numeric(revol_cleaned)\n",
        "  chunk[\"int_rate\"]=pd.to_numeric(int_rate_cleaned)\n",
        "  float_columns=chunk.select_dtypes(include=[\"float\"])\n",
        "  float_columns=float_columns.dropna()\n",
        "  for columns in float_columns.columns:\n",
        "    if columns in missing:\n",
        "      chunk[columns]=pd.to_numeric(chunk[columns], downcast=\"float\")\n",
        "    elif columns in no_missing:\n",
        "      change_to_int(chunk, columns)\n",
        "  total_memory.append(chunk.memory_usage(deep=True).sum()/(1024**2))\n",
        "\n",
        "print(\"\\nTotal memory usage: {:.2f} MB\" . format(sum(total_memory)))\n",
        "print(\"\\nPercentage memory savings: {:.2f} %\" .format(100*(sum(initial_memory) - sum(total_memory))/sum(initial_memory)))\n",
        "print(f\"\\n {chunk.dtypes}\")"
      ],
      "metadata": {
        "id": "21qTy8hEtRUN"
      },
      "execution_count": null,
      "outputs": []
    },
    {
      "cell_type": "markdown",
      "metadata": {
        "id": "DMJVaj_kxj42"
      },
      "source": [
        "## Next Steps"
      ]
    },
    {
      "cell_type": "markdown",
      "metadata": {
        "id": "H0RL3BzexlkW"
      },
      "source": [
        "We've practiced optimizing a dataframe's memory footprint and working with dataframe chunks. Here's an idea for some next steps:\n",
        "\n",
        "Create a function that automates as much of the work you just did as possible, so that you could use it on other Lending Club data sets. This function should:\n",
        "\n",
        "* Determine the optimal chunk size based on the memory constraints you provide.\n",
        "\n",
        "* Determine which string columns can be converted to numeric ones by removing the `%` character.\n",
        "\n",
        "* Determine which numeric columns can be converted to more space efficient representations.\n"
      ]
    },
    {
      "cell_type": "code",
      "metadata": {
        "id": "1hvuUNzPx1zy",
        "colab": {
          "base_uri": "https://localhost:8080/",
          "height": 131
        },
        "outputId": "014cdd36-2790-4187-eabd-1690361f167a"
      },
      "source": [
        "# Your code goes here\n",
        "def optimizer(file,mem_limit, chunk_step):"
      ],
      "execution_count": 14,
      "outputs": [
        {
          "output_type": "error",
          "ename": "SyntaxError",
          "evalue": "ignored",
          "traceback": [
            "\u001b[0;36m  File \u001b[0;32m\"<ipython-input-14-8775cc2fcf91>\"\u001b[0;36m, line \u001b[0;32m2\u001b[0m\n\u001b[0;31m    def optimizer(file,mem_limit, chunk_step):\u001b[0m\n\u001b[0m                                              ^\u001b[0m\n\u001b[0;31mSyntaxError\u001b[0m\u001b[0;31m:\u001b[0m unexpected EOF while parsing\n"
          ]
        }
      ]
    },
    {
      "cell_type": "code",
      "source": [
        "# Determine the optimal chunk size based on the memory constraints you provide.\n",
        "\n",
        "def optimal_chunk_size(csv_file, desired_mem, row_steps, start_chunk_size):\n",
        "  no_rows = start_chunk_size\n",
        "  chunk_memory =0\n",
        "  while(chunk_memory < desired_mem):\n",
        "    no_rows += row_steps\n",
        "    chunk = pd.read_csv(csv_file, nrows=no_rows)\n",
        "    chunk_memory = chunk.memory_usage(deep=True).sum()/(1024**2)\n",
        "  return(no_rows - row_steps) # reduce by 1\n",
        "\n",
        "optimal_chunk_size('https://bit.ly/3H2XVgC', 5, 50, 2500)"
      ],
      "metadata": {
        "colab": {
          "base_uri": "https://localhost:8080/"
        },
        "id": "e5NvdHY3XHby",
        "outputId": "d94f7bbd-eaa1-46ea-a78b-4bfec601c49b"
      },
      "execution_count": 15,
      "outputs": [
        {
          "output_type": "execute_result",
          "data": {
            "text/plain": [
              "3250"
            ]
          },
          "metadata": {},
          "execution_count": 15
        }
      ]
    },
    {
      "cell_type": "code",
      "source": [
        "# Determine which string columns can be converted to numeric ones by removing the % character\n",
        "def string_to_numeric(df, character):\n",
        "  columns_with_char = []\n",
        "  for key, value in df.iteritems():\n",
        "    if  value.str.contains(character).any(): #check if column has % character\n",
        "      try:\n",
        "        value = value.str.replace('%', '')  #remove it and try to convert to numeric\n",
        "        value = pd.to_numeric(value, errors='raise') \n",
        "        columns_with_char.append(key)\n",
        "      except(ValueError):\n",
        "        #dont add columns to the list\n",
        "        continue\n",
        "  print(columns_with_char)\n",
        "\n",
        "loans = pd.read_csv('https://bit.ly/3H2XVgC')\n",
        "string_cols = loans.select_dtypes(include='object')\n",
        "string_to_numeric(string_cols, '%')"
      ],
      "metadata": {
        "colab": {
          "base_uri": "https://localhost:8080/"
        },
        "id": "xVV9HqzLXPxk",
        "outputId": "6f50c6e9-c833-476d-9893-d2d0c5421fdd"
      },
      "execution_count": 16,
      "outputs": [
        {
          "output_type": "stream",
          "name": "stderr",
          "text": [
            "/usr/local/lib/python3.8/dist-packages/IPython/core/interactiveshell.py:3326: DtypeWarning: Columns (0) have mixed types.Specify dtype option on import or set low_memory=False.\n",
            "  exec(code_obj, self.user_global_ns, self.user_ns)\n"
          ]
        },
        {
          "output_type": "stream",
          "name": "stdout",
          "text": [
            "['int_rate', 'revol_util']\n"
          ]
        }
      ]
    },
    {
      "cell_type": "code",
      "source": [
        "#Determine which numeric columns can be converted to more space efficient representations\n",
        "\n",
        "def numeric_mem_optimise(df): \n",
        "  \n",
        "  numeric_cols = df.select_dtypes(exclude=['object'])\n",
        "  cols_missing_value = numeric_cols.isnull().sum()\n",
        " \n",
        "  int_cols = list(cols_missing_value[cols_missing_value == 0].index)\n",
        "  float_cols = list(cols_missing_value[cols_missing_value >0].index)\n",
        "\n",
        "  return int_cols, float_cols\n",
        "\n",
        "loans = pd.read_csv('https://bit.ly/3H2XVgC')\n",
        "loans['id']=pd.to_numeric(loans['id'], errors='coerce')\n",
        "loans.dropna(axis=0, subset=['id'], inplace=True)\n",
        "\n",
        "x,y = numeric_mem_optimise(loans)\n",
        "print(f'int columns: {x}')\n",
        "print(f'float columns: {y}')"
      ],
      "metadata": {
        "colab": {
          "base_uri": "https://localhost:8080/"
        },
        "id": "07QCDjs-XWZ0",
        "outputId": "c1c0c69e-32af-48cd-c558-f76ce506f93b"
      },
      "execution_count": 17,
      "outputs": [
        {
          "output_type": "stream",
          "name": "stdout",
          "text": [
            "int columns: ['id', 'member_id', 'loan_amnt', 'funded_amnt', 'funded_amnt_inv', 'installment', 'dti', 'revol_bal', 'out_prncp', 'out_prncp_inv', 'total_pymnt', 'total_pymnt_inv', 'total_rec_prncp', 'total_rec_int', 'total_rec_late_fee', 'recoveries', 'collection_recovery_fee', 'last_pymnt_amnt', 'policy_code']\n",
            "float columns: ['annual_inc', 'delinq_2yrs', 'inq_last_6mths', 'open_acc', 'pub_rec', 'total_acc', 'collections_12_mths_ex_med', 'acc_now_delinq', 'chargeoff_within_12_mths', 'delinq_amnt', 'pub_rec_bankruptcies', 'tax_liens']\n"
          ]
        }
      ]
    }
  ]
}